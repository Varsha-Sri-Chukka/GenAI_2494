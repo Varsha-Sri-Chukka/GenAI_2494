{
  "nbformat": 4,
  "nbformat_minor": 0,
  "metadata": {
    "colab": {
      "provenance": [],
      "authorship_tag": "ABX9TyPi2lPaPsXd9l2aSITbR/tU",
      "include_colab_link": true
    },
    "kernelspec": {
      "name": "python3",
      "display_name": "Python 3"
    },
    "language_info": {
      "name": "python"
    }
  },
  "cells": [
    {
      "cell_type": "markdown",
      "metadata": {
        "id": "view-in-github",
        "colab_type": "text"
      },
      "source": [
        "<a href=\"https://colab.research.google.com/github/Varsha-Sri-Chukka/GenAI_2494/blob/main/GenAI_A1.ipynb\" target=\"_parent\"><img src=\"https://colab.research.google.com/assets/colab-badge.svg\" alt=\"Open In Colab\"/></a>"
      ]
    },
    {
      "cell_type": "code",
      "source": [
        "ya=[20,30,40,50,60]\n",
        "yp=[20.5,30.3,40.2,50.6,60.7]"
      ],
      "metadata": {
        "id": "w0B_hvl8pnyL"
      },
      "execution_count": 5,
      "outputs": []
    },
    {
      "cell_type": "code",
      "source": [
        "sum=0\n",
        "for i in range(len(ya)):\n",
        "  sum=sum+(ya[i]-yp[i])**2\n",
        "mse = sum/len(ya)\n",
        "print(\"mean square error : \",mse)"
      ],
      "metadata": {
        "colab": {
          "base_uri": "https://localhost:8080/"
        },
        "id": "y7oxl3f9pnur",
        "outputId": "a61303c1-fc2a-4de4-a5a8-aa782f0ba0d0"
      },
      "execution_count": 6,
      "outputs": [
        {
          "output_type": "stream",
          "name": "stdout",
          "text": [
            "mean square error :  0.24600000000000147\n"
          ]
        }
      ]
    },
    {
      "cell_type": "code",
      "source": [
        "total=0\n",
        "for i in range(len(ya)):\n",
        "  sum=sum+abs((ya[i]-yp[i]))\n",
        "mae = sum/len(ya)\n",
        "print(\"mean absolute error : \",mae)"
      ],
      "metadata": {
        "colab": {
          "base_uri": "https://localhost:8080/"
        },
        "id": "Hb3meyjbpnsT",
        "outputId": "2ab48980-8ea1-4f8e-e349-b1184612b16a"
      },
      "execution_count": 7,
      "outputs": [
        {
          "output_type": "stream",
          "name": "stdout",
          "text": [
            "mean absolute error :  0.7060000000000031\n"
          ]
        }
      ]
    },
    {
      "cell_type": "code",
      "source": [
        "print(\"Root mean square error : \",(mse)**0.5)"
      ],
      "metadata": {
        "colab": {
          "base_uri": "https://localhost:8080/"
        },
        "id": "31P-3Tnnrf6A",
        "outputId": "8bf36ba6-8d92-4838-dd26-2be55b8d36a4"
      },
      "execution_count": 8,
      "outputs": [
        {
          "output_type": "stream",
          "name": "stdout",
          "text": [
            "Root mean square error :  0.49598387070549127\n"
          ]
        }
      ]
    },
    {
      "cell_type": "markdown",
      "source": [
        "# without libraries"
      ],
      "metadata": {
        "id": "OwElanforlBy"
      }
    },
    {
      "cell_type": "code",
      "source": [
        "from sklearn.metrics import mean_squared_error,mean_absolute_error,root_mean_squared_error\n",
        "\n",
        "\n",
        "print(\"mean square error : \",mean_squared_error(ya,yp))\n",
        "print(\"mean absolute error : \",mean_absolute_error(ya,yp))\n",
        "print(\"Root mean square error : \",root_mean_squared_error(ya,yp))"
      ],
      "metadata": {
        "colab": {
          "base_uri": "https://localhost:8080/"
        },
        "id": "7X-fBHeqrjcB",
        "outputId": "d084c981-12a4-4eb6-d212-ce0f29abaff7"
      },
      "execution_count": 9,
      "outputs": [
        {
          "output_type": "stream",
          "name": "stdout",
          "text": [
            "mean square error :  0.24600000000000147\n",
            "mean absolute error :  0.4600000000000016\n",
            "Root mean square error :  0.49598387070549127\n"
          ]
        }
      ]
    },
    {
      "cell_type": "markdown",
      "source": [
        "# classification metrics"
      ],
      "metadata": {
        "id": "9YbdqW1XrrRe"
      }
    },
    {
      "cell_type": "code",
      "source": [
        "ya1=[0,0,0,0,0,1,1,1,1,1,1,2,2,2,2,2]\n",
        "yp1=[0,0,1,2,2,1,0,2,0,2,2,0,0,1,2,2]"
      ],
      "metadata": {
        "id": "eMhPnIpxrp68"
      },
      "execution_count": 10,
      "outputs": []
    },
    {
      "cell_type": "markdown",
      "source": [
        "# without libraries"
      ],
      "metadata": {
        "id": "RrTmj9VlrzJJ"
      }
    },
    {
      "cell_type": "code",
      "source": [
        "\n",
        "min_label = min(min(ya1), min(yp1))\n",
        "max_label = max(max(ya1), max(yp1))\n",
        "\n",
        "\n",
        "num_classes = max_label - min_label + 1\n",
        "\n",
        "cm = [[0 for _ in range(num_classes)] for _ in range(num_classes)]\n",
        "\n",
        "for i in range(len(ya1)):\n",
        "    cm[ya1[i]-min_label][yp1[i]-min_label] += 1\n",
        "\n",
        "for row in cm:\n",
        "    print(row)"
      ],
      "metadata": {
        "colab": {
          "base_uri": "https://localhost:8080/"
        },
        "id": "xtSNKMQMrp3U",
        "outputId": "28cecfd9-ccf4-48b3-afc6-424df17463c8"
      },
      "execution_count": 11,
      "outputs": [
        {
          "output_type": "stream",
          "name": "stdout",
          "text": [
            "[2, 1, 2]\n",
            "[2, 1, 3]\n",
            "[2, 1, 2]\n"
          ]
        }
      ]
    },
    {
      "cell_type": "code",
      "source": [
        "import numpy as np"
      ],
      "metadata": {
        "id": "V_j7gAw6rp1Q"
      },
      "execution_count": 12,
      "outputs": []
    },
    {
      "cell_type": "code",
      "source": [
        "accuracy = np.sum(np.diagonal(cm)) / np.sum(cm)\n",
        "\n",
        "precision = {}\n",
        "recall = {}\n",
        "f1_score = {}\n",
        "\n",
        "for i in range(num_classes):\n",
        "    true_positive = cm[i][i]\n",
        "    false_positive = np.sum(cm[j][i] for j in range(num_classes)) - true_positive\n",
        "    false_negative = np.sum(cm[i][j] for j in range(num_classes)) - true_positive\n",
        "    true_negative = np.sum(np.sum(cm[row][col] for col in range(num_classes)) for row in range(num_classes)) - (true_positive + false_positive + false_negative)\n",
        "\n",
        "    # Precision: TP / (TP + FP)\n",
        "    precision[i] = true_positive / (true_positive + false_positive) if (true_positive + false_positive) > 0 else 0\n",
        "\n",
        "    # Recall: TP / (TP + FN)\n",
        "    recall[i] = true_positive / (true_positive + false_negative) if (true_positive + false_negative) > 0 else 0\n",
        "\n",
        "    # F1 Score: 2 * (Precision * Recall) / (Precision + Recall)\n",
        "    if precision[i] + recall[i] > 0:\n",
        "        f1_score[i] = 2 * (precision[i] * recall[i]) / (precision[i] + recall[i])\n",
        "    else:\n",
        "        f1_score[i] = 0\n",
        "# Calculate overall precision, recall, and F1-score using numpy\n",
        "overall_precision = np.sum([precision[i] for i in range(num_classes)])/num_classes\n",
        "overall_recall = np.sum([recall[i] for i in range(num_classes)])/num_classes\n",
        "overall_f1_score = np.sum([f1_score[i] for i in range(num_classes)])/num_classes\n",
        "\n",
        "# Print results\n",
        "for i in range(num_classes):\n",
        "    print(f\"\\nClass {i + min_label}:\")\n",
        "    print(f\"  Precision: {precision[i]:.2f}\")\n",
        "    print(f\"  Recall: {recall[i]:.2f}\")\n",
        "    print(f\"  F1-Score: {f1_score[i]:.2f}\")\n",
        "\n",
        "\n",
        "print(\"\\nMetrics:\")\n",
        "print(f\"Overall Accuracy: {accuracy:.2f}\")\n",
        "print(f\"Overall Precision: {overall_precision:.2f}\")\n",
        "print(f\"Overall Recall: {overall_recall:.2f}\")\n",
        "print(f\"Overall F1-Score: {overall_f1_score:.2f}\")\n",
        "\n",
        "print()\n",
        "print()"
      ],
      "metadata": {
        "colab": {
          "base_uri": "https://localhost:8080/"
        },
        "id": "SNkdkzMUrpy5",
        "outputId": "1f853996-32a2-4911-a4ef-8588ee5be480"
      },
      "execution_count": 13,
      "outputs": [
        {
          "output_type": "stream",
          "name": "stdout",
          "text": [
            "\n",
            "Class 0:\n",
            "  Precision: 0.33\n",
            "  Recall: 0.40\n",
            "  F1-Score: 0.36\n",
            "\n",
            "Class 1:\n",
            "  Precision: 0.33\n",
            "  Recall: 0.17\n",
            "  F1-Score: 0.22\n",
            "\n",
            "Class 2:\n",
            "  Precision: 0.29\n",
            "  Recall: 0.40\n",
            "  F1-Score: 0.33\n",
            "\n",
            "Metrics:\n",
            "Overall Accuracy: 0.31\n",
            "Overall Precision: 0.32\n",
            "Overall Recall: 0.32\n",
            "Overall F1-Score: 0.31\n",
            "\n",
            "\n"
          ]
        },
        {
          "output_type": "stream",
          "name": "stderr",
          "text": [
            "<ipython-input-13-5d922b0979af>:9: DeprecationWarning: Calling np.sum(generator) is deprecated, and in the future will give a different result. Use np.sum(np.fromiter(generator)) or the python sum builtin instead.\n",
            "  false_positive = np.sum(cm[j][i] for j in range(num_classes)) - true_positive\n",
            "<ipython-input-13-5d922b0979af>:10: DeprecationWarning: Calling np.sum(generator) is deprecated, and in the future will give a different result. Use np.sum(np.fromiter(generator)) or the python sum builtin instead.\n",
            "  false_negative = np.sum(cm[i][j] for j in range(num_classes)) - true_positive\n",
            "<ipython-input-13-5d922b0979af>:11: DeprecationWarning: Calling np.sum(generator) is deprecated, and in the future will give a different result. Use np.sum(np.fromiter(generator)) or the python sum builtin instead.\n",
            "  true_negative = np.sum(np.sum(cm[row][col] for col in range(num_classes)) for row in range(num_classes)) - (true_positive + false_positive + false_negative)\n"
          ]
        }
      ]
    },
    {
      "cell_type": "markdown",
      "source": [
        "# with libraries"
      ],
      "metadata": {
        "id": "vw2_FQzNsG94"
      }
    },
    {
      "cell_type": "code",
      "source": [
        "from sklearn.metrics import accuracy_score,precision_score,f1_score,recall_score,classification_report,confusion_matrix\n",
        "\n",
        "\n",
        "print(confusion_matrix(ya1,yp1))"
      ],
      "metadata": {
        "colab": {
          "base_uri": "https://localhost:8080/"
        },
        "id": "IRVhOuDIrpwV",
        "outputId": "b1f27e18-b283-4ea4-fa59-8ee2484ab8e0"
      },
      "execution_count": 14,
      "outputs": [
        {
          "output_type": "stream",
          "name": "stdout",
          "text": [
            "[[2 1 2]\n",
            " [2 1 3]\n",
            " [2 1 2]]\n"
          ]
        }
      ]
    },
    {
      "cell_type": "code",
      "source": [
        "print(classification_report(ya1,yp1))"
      ],
      "metadata": {
        "colab": {
          "base_uri": "https://localhost:8080/"
        },
        "id": "O5BSFHtJsGYN",
        "outputId": "37fc3aab-8d16-46ca-e033-700b2eef53ef"
      },
      "execution_count": 15,
      "outputs": [
        {
          "output_type": "stream",
          "name": "stdout",
          "text": [
            "              precision    recall  f1-score   support\n",
            "\n",
            "           0       0.33      0.40      0.36         5\n",
            "           1       0.33      0.17      0.22         6\n",
            "           2       0.29      0.40      0.33         5\n",
            "\n",
            "    accuracy                           0.31        16\n",
            "   macro avg       0.32      0.32      0.31        16\n",
            "weighted avg       0.32      0.31      0.30        16\n",
            "\n"
          ]
        }
      ]
    },
    {
      "cell_type": "code",
      "source": [
        "print(\"\\nMetrics:\")\n",
        "print(f\"Overall Accuracy: {accuracy_score(ya1,yp1):.2f}\")\n",
        "print(f\"Overall Precision: {precision_score(ya1,yp1, average='weighted'):.2f}\")\n",
        "print(f\"Overall Recall: {recall_score(ya1,yp1, average='weighted'):.2f}\")\n",
        "print(f\"Overall F1-Score: {f1_score(ya1,yp1, average='weighted'):.2f}\")"
      ],
      "metadata": {
        "colab": {
          "base_uri": "https://localhost:8080/"
        },
        "id": "ho3jTak2sGUp",
        "outputId": "bc0e3cea-e1d0-4fc5-c1e9-805adcef85f6"
      },
      "execution_count": 16,
      "outputs": [
        {
          "output_type": "stream",
          "name": "stdout",
          "text": [
            "\n",
            "Metrics:\n",
            "Overall Accuracy: 0.31\n",
            "Overall Precision: 0.32\n",
            "Overall Recall: 0.31\n",
            "Overall F1-Score: 0.30\n"
          ]
        }
      ]
    },
    {
      "cell_type": "code",
      "source": [],
      "metadata": {
        "id": "aYkK67jCsGS0"
      },
      "execution_count": 16,
      "outputs": []
    },
    {
      "cell_type": "code",
      "source": [],
      "metadata": {
        "id": "x5DxEPJ6sGQO"
      },
      "execution_count": 16,
      "outputs": []
    }
  ]
}